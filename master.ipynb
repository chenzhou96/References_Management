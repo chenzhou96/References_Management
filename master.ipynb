{
 "cells": [
  {
   "cell_type": "code",
   "execution_count": null,
   "metadata": {},
   "outputs": [],
   "source": [
    "# define filename class\n",
    "class Filename():\n",
    "\n",
    "    def __init__(self, name_str ='', category='', source='',year='', keywords=list()) -> None:\n",
    "        \"\"\"name_str can be divided into other parameters\"\"\"\n",
    "        self.name_str = name_str\n",
    "        self.category = category\n",
    "        self.source = source\n",
    "        self.year = year\n",
    "        self.keywords = keywords\n",
    "\n",
    "    def divide(self) -> object:\n",
    "        \"\"\"divide name_str to other parameters\"\"\"\n",
    "        pass\n",
    "\n",
    "    def merge(self) -> object:\n",
    "        \"\"\"merge parameters into name_str\"\"\"\n",
    "        pass"
   ]
  },
  {
   "cell_type": "code",
   "execution_count": 1,
   "metadata": {},
   "outputs": [
    {
     "name": "stdout",
     "output_type": "stream",
     "text": [
      "['WELL_BEHAVED', '[Research] 2001 - Analyst - Mechanism of response enhancement in evaporative light scattering detection with the addition of triethylamine and formic acid.pdf', '[Research] 2006 - Anal Chem - Universal Response in Liquid Chromatography Using Charged Aerosol Detection.pdf', '[Research] 2006 - J Chromatogr A - Selectivity in reversed-phase separations - Influence of the stationary phase.pdf', '[Research] 2007 - J Chromatogr A - Improving the universal response of evaporative light scattering detection by mobile phase compensation.pdf', '[Research] 2010 - J Chromatogr A - Improved reversed-phase gradient retention modeling.pdf', '[Research] 2010- J Chromatogr A - Use of evaporative light scattering detection for the quality control of drug substances.pdf', '[Research] 2011 - J Chromatogr A - Probing the interaction mode in hydrophilic interaction chromatography.pdf', '[Research] 2017 - Int J Polym Anal Ch - Linearization of evaporative light scattering detector signal.pdf', '[Research] 2018 - J Liq Chromatogr R T - Optimization of ion-exchange systems for isoquinoline alkaloids analysis in plant materials.pdf', '[Research] 2021 - J Chromatogr A - Global retention models and their application to the prediction of chromatographic fingerprints.pdf', '[Research] 2021 - Microchem J - A simple approach for reversed phase column comparisons via the Tanaka test.pdf', '[Research] 2022 - Eur Food Res Technol - Chromatographic fingerprint application possibilities in food authentication.pdf', '[Research] 2023 - J Chromatogr A - A polyethyleneimine-functionalized polymer substrate polar stationary phase.pdf', '[Review] 2001 - Comp Funct Genom - Combining genomics, metabolome analysis, and biochemical modelling to understand metabolic networks.pdf', '[Review] 2004 - J Chromatogr A - Ghost peaks in reversed-phase gradient HPLC - a review and update.pdf', '[Review] 2004 - J Chromatogr A - The hydrophobic-subtraction model of reversed-phase column selectivity.pdf', '[Review] 2005 - Crit Rev Anal Chem - Twenty Years of Evaporative Light Scattering Detection.pdf', '[Review] 2006 - J Sep Sci - Hydrophilic interaction chromatography.pdf', '[Review] 2007 - Anal Bioanal Chem - Evaporative light scattering detection - trends in its analytical uses.pdf', '[Review] 2012 - Anal Bioanal Chem - Hydrophilic interaction liquid chromatography (HILIC)—a powerful separation technique.pdf', '[Review] 2013 - Anal Methods - Multimodal liquid chromatography of small molecules.pdf', \"[Review] 2016 - Anal Chim Acta - Chromatographic fingerprinting An innovative approach for food 'identitation' and food authentication – A tutorial.pdf\", '[Review] 2016 - J Pharmaceut Biomed - Mixed-mode chromatography in pharmaceutical and biopharmaceutical applications.pdf']\n"
     ]
    }
   ],
   "source": [
    "import os, re\n",
    "from pathlib import Path\n",
    "\n",
    "def read_filenames(path: Path) -> list:\n",
    "    \"\"\"\n",
    "    read files named in '[XX] XX - XX' format in a folder\n",
    "    \"\"\"\n",
    "\n",
    "    filenames = os.listdir(path)\n",
    "\n",
    "    # 只读取csv文件\n",
    "    name_re = re.compile(r'^[*]*-*')\n",
    "    for name in filenames[:]:\n",
    "        if not name_re.search(name):\n",
    "            filenames.remove(name)\n",
    "\n",
    "    return filenames\n",
    "\n",
    "path = 'C:\\\\Users\\\\06427\\\\Desktop\\\\文献资料\\\\化学分析\\\\LC'\n",
    "print(read_filenames(path))"
   ]
  }
 ],
 "metadata": {
  "kernelspec": {
   "display_name": "Python 3",
   "language": "python",
   "name": "python3"
  },
  "language_info": {
   "codemirror_mode": {
    "name": "ipython",
    "version": 3
   },
   "file_extension": ".py",
   "mimetype": "text/x-python",
   "name": "python",
   "nbconvert_exporter": "python",
   "pygments_lexer": "ipython3",
   "version": "3.11.6"
  }
 },
 "nbformat": 4,
 "nbformat_minor": 2
}
